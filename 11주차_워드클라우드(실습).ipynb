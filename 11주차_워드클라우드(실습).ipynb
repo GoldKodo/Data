{
  "nbformat": 4,
  "nbformat_minor": 0,
  "metadata": {
    "colab": {
      "provenance": [],
      "include_colab_link": true
    },
    "kernelspec": {
      "name": "python3",
      "display_name": "Python 3"
    },
    "language_info": {
      "name": "python"
    }
  },
  "cells": [
    {
      "cell_type": "markdown",
      "metadata": {
        "id": "view-in-github",
        "colab_type": "text"
      },
      "source": [
        "<a href=\"https://colab.research.google.com/github/GoldKodo/Data/blob/main/11%EC%A3%BC%EC%B0%A8_%EC%9B%8C%EB%93%9C%ED%81%B4%EB%9D%BC%EC%9A%B0%EB%93%9C(%EC%8B%A4%EC%8A%B5).ipynb\" target=\"_parent\"><img src=\"https://colab.research.google.com/assets/colab-badge.svg\" alt=\"Open In Colab\"/></a>"
      ]
    },
    {
      "cell_type": "markdown",
      "source": [
        "Q 한글 세팅\n"
      ],
      "metadata": {
        "id": "IAp72GAbyHUI"
      }
    },
    {
      "cell_type": "code",
      "source": [
        "!sudo apt-get install -y fonts-nanum\n",
        "!sudo fc-cache -fv\n",
        "!rm ~/.cache/matplotlib -rf\n",
        "#실행후 세션리스타트"
      ],
      "metadata": {
        "id": "CzrGdGkjn8KZ",
        "collapsed": true,
        "colab": {
          "base_uri": "https://localhost:8080/"
        },
        "outputId": "71c5f06e-200c-41c5-9b35-3cfcc27d6b41"
      },
      "execution_count": 1,
      "outputs": [
        {
          "output_type": "stream",
          "name": "stdout",
          "text": [
            "Reading package lists... Done\n",
            "Building dependency tree... Done\n",
            "Reading state information... Done\n",
            "The following NEW packages will be installed:\n",
            "  fonts-nanum\n",
            "0 upgraded, 1 newly installed, 0 to remove and 45 not upgraded.\n",
            "Need to get 10.3 MB of archives.\n",
            "After this operation, 34.1 MB of additional disk space will be used.\n",
            "Get:1 http://archive.ubuntu.com/ubuntu jammy/universe amd64 fonts-nanum all 20200506-1 [10.3 MB]\n",
            "Fetched 10.3 MB in 1s (8,059 kB/s)\n",
            "debconf: unable to initialize frontend: Dialog\n",
            "debconf: (No usable dialog-like program is installed, so the dialog based frontend cannot be used. at /usr/share/perl5/Debconf/FrontEnd/Dialog.pm line 78, <> line 1.)\n",
            "debconf: falling back to frontend: Readline\n",
            "debconf: unable to initialize frontend: Readline\n",
            "debconf: (This frontend requires a controlling tty.)\n",
            "debconf: falling back to frontend: Teletype\n",
            "dpkg-preconfigure: unable to re-open stdin: \n",
            "Selecting previously unselected package fonts-nanum.\n",
            "(Reading database ... 121926 files and directories currently installed.)\n",
            "Preparing to unpack .../fonts-nanum_20200506-1_all.deb ...\n",
            "Unpacking fonts-nanum (20200506-1) ...\n",
            "Setting up fonts-nanum (20200506-1) ...\n",
            "Processing triggers for fontconfig (2.13.1-4.2ubuntu5) ...\n",
            "/usr/share/fonts: caching, new cache contents: 0 fonts, 1 dirs\n",
            "/usr/share/fonts/truetype: caching, new cache contents: 0 fonts, 3 dirs\n",
            "/usr/share/fonts/truetype/humor-sans: caching, new cache contents: 1 fonts, 0 dirs\n",
            "/usr/share/fonts/truetype/liberation: caching, new cache contents: 16 fonts, 0 dirs\n",
            "/usr/share/fonts/truetype/nanum: caching, new cache contents: 12 fonts, 0 dirs\n",
            "/usr/local/share/fonts: caching, new cache contents: 0 fonts, 0 dirs\n",
            "/root/.local/share/fonts: skipping, no such directory\n",
            "/root/.fonts: skipping, no such directory\n",
            "/usr/share/fonts/truetype: skipping, looped directory detected\n",
            "/usr/share/fonts/truetype/humor-sans: skipping, looped directory detected\n",
            "/usr/share/fonts/truetype/liberation: skipping, looped directory detected\n",
            "/usr/share/fonts/truetype/nanum: skipping, looped directory detected\n",
            "/var/cache/fontconfig: cleaning cache directory\n",
            "/root/.cache/fontconfig: not cleaning non-existent cache directory\n",
            "/root/.fontconfig: not cleaning non-existent cache directory\n",
            "fc-cache: succeeded\n"
          ]
        }
      ]
    },
    {
      "cell_type": "markdown",
      "source": [
        "Q 위키백과 제공코드 가져오기"
      ],
      "metadata": {
        "id": "9eb1qq5Cypp4"
      }
    },
    {
      "cell_type": "code",
      "execution_count": 1,
      "metadata": {
        "colab": {
          "base_uri": "https://localhost:8080/"
        },
        "id": "8yKTSO2on4lp",
        "outputId": "bfa2d043-9b00-48c9-c933-7a60d8103d1a"
      },
      "outputs": [
        {
          "output_type": "stream",
          "name": "stdout",
          "text": [
            "[responseCode] 200\n",
            "[responBody]\n",
            "{\"result\":0,\"return_object\":{\"WiKiInfo\":{\"IRInfo\":[{\"wiki_title\":\"\",\"sent\":\"\",\"url\":\"\"}],\"AnswerInfo\":[{\"rank\":1,\"answer\":\"김구(金九, 1876년 8월 29일 (1876년 음력 7월 11일) - 1949년 6월 26일)는 일제강점기 독립운동가이자 대한민국의 통일운동가, 정치인이다. 의열단체 한인애국단을 이끌었고 대한민국 임시 정부 주석을 역임하였으며 1962년 '건국훈장 대한민국장'이 추서되었다.\",\"confidence\":0,\"url\":[\"https://ko.wikipedia.org/wiki/김구\"]}]}}}\n"
          ]
        }
      ],
      "source": [
        "#제공코드 가져와서 변형\n",
        "#-*- coding:utf-8 -*-\n",
        "import urllib3\n",
        "import json\n",
        "\n",
        "openApiURL = \"http://aiopen.etri.re.kr:8000/WikiQA\"\n",
        "accessKey = \"227e6bc0-f5a0-4024-bf96-262dceba554c\"\n",
        "question = \"김구가 누구야\"\n",
        "etype = \"ENGINE_TYPE\"      # type 은 파이썬 용어라 etype으로 변경. 홈페이지 자체의 문제임\n",
        "\n",
        "requestJson = {\n",
        "  \"argument\": {\n",
        "    \"question\": question,\n",
        "    \"type\": etype\n",
        "  }\n",
        "}\n",
        "\n",
        "http = urllib3.PoolManager()\n",
        "response = http.request(\n",
        "\"POST\",\n",
        "openApiURL,\n",
        "headers={\"Content-Type\": \"application/json; charset=UTF-8\",\"Authorization\": accessKey},\n",
        "body=json.dumps(requestJson)\n",
        ")\n",
        "\n",
        "print(\"[responseCode] \" + str(response.status))\n",
        "print(\"[responBody]\")\n",
        "print(str(response.data,\"utf-8\"))"
      ]
    },
    {
      "cell_type": "code",
      "source": [
        "response_data = response.json()\n",
        "#response_data = json.loads(response.data.decode(\"utf-8\"))\n",
        "print(response_data)"
      ],
      "metadata": {
        "colab": {
          "base_uri": "https://localhost:8080/"
        },
        "id": "_k3tYknFrpJH",
        "outputId": "d9c6851e-768c-42a7-a1f8-26c063b648a2"
      },
      "execution_count": 2,
      "outputs": [
        {
          "output_type": "stream",
          "name": "stdout",
          "text": [
            "{'result': 0, 'return_object': {'WiKiInfo': {'IRInfo': [{'wiki_title': '', 'sent': '', 'url': ''}], 'AnswerInfo': [{'rank': 1, 'answer': \"김구(金九, 1876년 8월 29일 (1876년 음력 7월 11일) - 1949년 6월 26일)는 일제강점기 독립운동가이자 대한민국의 통일운동가, 정치인이다. 의열단체 한인애국단을 이끌었고 대한민국 임시 정부 주석을 역임하였으며 1962년 '건국훈장 대한민국장'이 추서되었다.\", 'confidence': 0, 'url': ['https://ko.wikipedia.org/wiki/김구']}]}}}\n"
          ]
        }
      ]
    },
    {
      "cell_type": "code",
      "source": [
        "print(type(response_data))"
      ],
      "metadata": {
        "id": "44I3ruN6teEi",
        "colab": {
          "base_uri": "https://localhost:8080/"
        },
        "outputId": "d7e57b7a-3b74-4261-f3da-f7434f1b6215"
      },
      "execution_count": 3,
      "outputs": [
        {
          "output_type": "stream",
          "name": "stdout",
          "text": [
            "<class 'dict'>\n"
          ]
        }
      ]
    },
    {
      "cell_type": "code",
      "source": [
        "response_data.keys()"
      ],
      "metadata": {
        "colab": {
          "base_uri": "https://localhost:8080/"
        },
        "id": "Hs7V9IlUtcC2",
        "outputId": "dbe51ed5-8f0a-41f2-ce24-3364ad3c2449"
      },
      "execution_count": 4,
      "outputs": [
        {
          "output_type": "execute_result",
          "data": {
            "text/plain": [
              "dict_keys(['result', 'return_object'])"
            ]
          },
          "metadata": {},
          "execution_count": 4
        }
      ]
    },
    {
      "cell_type": "code",
      "source": [
        "response_data['return_object'].keys()"
      ],
      "metadata": {
        "colab": {
          "base_uri": "https://localhost:8080/"
        },
        "id": "l4NtPOCbtlXZ",
        "outputId": "429810ff-7bb5-4671-a344-eaa25ed14c4f"
      },
      "execution_count": 5,
      "outputs": [
        {
          "output_type": "execute_result",
          "data": {
            "text/plain": [
              "dict_keys(['WiKiInfo'])"
            ]
          },
          "metadata": {},
          "execution_count": 5
        }
      ]
    },
    {
      "cell_type": "code",
      "source": [
        "answer_info = response_data['return_object']['WiKiInfo']['AnswerInfo'][0] #리턴옵젝 안에 위키인포 안에 앤서인포의 첫번째\n",
        "answer_info"
      ],
      "metadata": {
        "colab": {
          "base_uri": "https://localhost:8080/"
        },
        "id": "CX095nPItrQK",
        "outputId": "27b33608-5f4f-473a-8db8-4d1ec6ffe936"
      },
      "execution_count": 6,
      "outputs": [
        {
          "output_type": "execute_result",
          "data": {
            "text/plain": [
              "{'rank': 1,\n",
              " 'answer': \"김구(金九, 1876년 8월 29일 (1876년 음력 7월 11일) - 1949년 6월 26일)는 일제강점기 독립운동가이자 대한민국의 통일운동가, 정치인이다. 의열단체 한인애국단을 이끌었고 대한민국 임시 정부 주석을 역임하였으며 1962년 '건국훈장 대한민국장'이 추서되었다.\",\n",
              " 'confidence': 0,\n",
              " 'url': ['https://ko.wikipedia.org/wiki/김구']}"
            ]
          },
          "metadata": {},
          "execution_count": 6
        }
      ]
    },
    {
      "cell_type": "code",
      "source": [
        "answer_info['answer']"
      ],
      "metadata": {
        "colab": {
          "base_uri": "https://localhost:8080/",
          "height": 35
        },
        "id": "uuEr7rsOuILQ",
        "outputId": "884a8c31-bfae-461e-d51c-28b6996b1a9d"
      },
      "execution_count": 7,
      "outputs": [
        {
          "output_type": "execute_result",
          "data": {
            "text/plain": [
              "\"김구(金九, 1876년 8월 29일 (1876년 음력 7월 11일) - 1949년 6월 26일)는 일제강점기 독립운동가이자 대한민국의 통일운동가, 정치인이다. 의열단체 한인애국단을 이끌었고 대한민국 임시 정부 주석을 역임하였으며 1962년 '건국훈장 대한민국장'이 추서되었다.\""
            ],
            "application/vnd.google.colaboratory.intrinsic+json": {
              "type": "string"
            }
          },
          "metadata": {},
          "execution_count": 7
        }
      ]
    },
    {
      "cell_type": "markdown",
      "source": [
        "Q 데이터 분석 전문가에 대한 정보 추출\n",
        "\n",
        "rank, confidence, url 출력해보기"
      ],
      "metadata": {
        "id": "e3KST1K2y45B"
      }
    },
    {
      "cell_type": "code",
      "source": [
        "answer_info = response_data['return_object']['WiKiInfo']['AnswerInfo'][0]\n",
        "print(\"Answer:\", answer_info['answer'])\n",
        "print(\"Rank:\", answer_info['rank'])\n",
        "print(\"Confidence:\", answer_info['confidence'])\n",
        "print(\"URL:\", answer_info['url'])"
      ],
      "metadata": {
        "colab": {
          "base_uri": "https://localhost:8080/"
        },
        "id": "U8N_v0gyqJTe",
        "outputId": "94a97961-8f5c-4949-d767-a5d0d4ad8c5e"
      },
      "execution_count": 8,
      "outputs": [
        {
          "output_type": "stream",
          "name": "stdout",
          "text": [
            "Answer: 김구(金九, 1876년 8월 29일 (1876년 음력 7월 11일) - 1949년 6월 26일)는 일제강점기 독립운동가이자 대한민국의 통일운동가, 정치인이다. 의열단체 한인애국단을 이끌었고 대한민국 임시 정부 주석을 역임하였으며 1962년 '건국훈장 대한민국장'이 추서되었다.\n",
            "Rank: 1\n",
            "Confidence: 0\n",
            "URL: ['https://ko.wikipedia.org/wiki/김구']\n"
          ]
        }
      ]
    },
    {
      "cell_type": "markdown",
      "source": [
        "함수 get_wiki(text, apikey) answer을 반환하는 함수를 만드시오"
      ],
      "metadata": {
        "id": "L1Y2QWG7cNpl"
      }
    },
    {
      "cell_type": "code",
      "source": [
        "def get_wiki(text, apikey):\n",
        "  requestJson = {\n",
        "  \"argument\": {\n",
        "    \"question\": text,\n",
        "    \"type\": etype\n",
        "    }\n",
        "  }\n",
        "\n",
        "  http = urllib3.PoolManager()\n",
        "  response = http.request(\n",
        "      \"POST\",\n",
        "      openApiURL,\n",
        "      headers={\"Content-Type\": \"application/json; charset=UTF-8\",\"Authorization\": accessKey},\n",
        "      body=json.dumps(requestJson))\n",
        "\n",
        "  response_data = response.json()\n",
        "  answer_info = response_data['return_object']['WiKiInfo']['AnswerInfo'][0]\n",
        "  return answer_info['answer']"
      ],
      "metadata": {
        "id": "rqMempZucDoF"
      },
      "execution_count": 9,
      "outputs": []
    },
    {
      "cell_type": "code",
      "source": [
        "text = get_wiki(\"데이터 분석이 뭐야\", accessKey)"
      ],
      "metadata": {
        "id": "TIQ3ZGageD0s"
      },
      "execution_count": 10,
      "outputs": []
    },
    {
      "cell_type": "markdown",
      "source": [
        "워드클라우드와 konlpy 설치"
      ],
      "metadata": {
        "id": "soVagS1Uy_ZV"
      }
    },
    {
      "cell_type": "code",
      "source": [
        "!pip install wordcloud konlpy"
      ],
      "metadata": {
        "colab": {
          "base_uri": "https://localhost:8080/"
        },
        "id": "UshcgeBry-f7",
        "outputId": "6b1de2aa-ee34-4814-8736-c72d8870b4da",
        "collapsed": true
      },
      "execution_count": 11,
      "outputs": [
        {
          "output_type": "stream",
          "name": "stdout",
          "text": [
            "Requirement already satisfied: wordcloud in /usr/local/lib/python3.10/dist-packages (1.9.3)\n",
            "Collecting konlpy\n",
            "  Downloading konlpy-0.6.0-py2.py3-none-any.whl (19.4 MB)\n",
            "\u001b[2K     \u001b[90m━━━━━━━━━━━━━━━━━━━━━━━━━━━━━━━━━━━━━━━━\u001b[0m \u001b[32m19.4/19.4 MB\u001b[0m \u001b[31m44.4 MB/s\u001b[0m eta \u001b[36m0:00:00\u001b[0m\n",
            "\u001b[?25hRequirement already satisfied: numpy>=1.6.1 in /usr/local/lib/python3.10/dist-packages (from wordcloud) (1.25.2)\n",
            "Requirement already satisfied: pillow in /usr/local/lib/python3.10/dist-packages (from wordcloud) (9.4.0)\n",
            "Requirement already satisfied: matplotlib in /usr/local/lib/python3.10/dist-packages (from wordcloud) (3.7.1)\n",
            "Collecting JPype1>=0.7.0 (from konlpy)\n",
            "  Downloading JPype1-1.5.0-cp310-cp310-manylinux_2_17_x86_64.manylinux2014_x86_64.whl (488 kB)\n",
            "\u001b[2K     \u001b[90m━━━━━━━━━━━━━━━━━━━━━━━━━━━━━━━━━━━━━━━━\u001b[0m \u001b[32m488.6/488.6 kB\u001b[0m \u001b[31m34.9 MB/s\u001b[0m eta \u001b[36m0:00:00\u001b[0m\n",
            "\u001b[?25hRequirement already satisfied: lxml>=4.1.0 in /usr/local/lib/python3.10/dist-packages (from konlpy) (4.9.4)\n",
            "Requirement already satisfied: packaging in /usr/local/lib/python3.10/dist-packages (from JPype1>=0.7.0->konlpy) (24.1)\n",
            "Requirement already satisfied: contourpy>=1.0.1 in /usr/local/lib/python3.10/dist-packages (from matplotlib->wordcloud) (1.2.1)\n",
            "Requirement already satisfied: cycler>=0.10 in /usr/local/lib/python3.10/dist-packages (from matplotlib->wordcloud) (0.12.1)\n",
            "Requirement already satisfied: fonttools>=4.22.0 in /usr/local/lib/python3.10/dist-packages (from matplotlib->wordcloud) (4.53.0)\n",
            "Requirement already satisfied: kiwisolver>=1.0.1 in /usr/local/lib/python3.10/dist-packages (from matplotlib->wordcloud) (1.4.5)\n",
            "Requirement already satisfied: pyparsing>=2.3.1 in /usr/local/lib/python3.10/dist-packages (from matplotlib->wordcloud) (3.1.2)\n",
            "Requirement already satisfied: python-dateutil>=2.7 in /usr/local/lib/python3.10/dist-packages (from matplotlib->wordcloud) (2.8.2)\n",
            "Requirement already satisfied: six>=1.5 in /usr/local/lib/python3.10/dist-packages (from python-dateutil>=2.7->matplotlib->wordcloud) (1.16.0)\n",
            "Installing collected packages: JPype1, konlpy\n",
            "Successfully installed JPype1-1.5.0 konlpy-0.6.0\n"
          ]
        }
      ]
    },
    {
      "cell_type": "markdown",
      "source": [
        "Q 위키데이터로 분석하기\n"
      ],
      "metadata": {
        "id": "wl6LD-a08DlL"
      }
    },
    {
      "cell_type": "code",
      "source": [
        "from wordcloud import WordCloud\n",
        "from konlpy.tag import Okt\n",
        "import matplotlib.pyplot as plt\n",
        "\n",
        "\n",
        "okt = Okt()\n",
        "tokens = okt.nouns(text)\n",
        "print(tokens)"
      ],
      "metadata": {
        "id": "4YPY3Gy8zjMH",
        "colab": {
          "base_uri": "https://localhost:8080/"
        },
        "outputId": "3ae23227-a498-4e10-a880-cabbc5e5bdfe"
      },
      "execution_count": 13,
      "outputs": [
        {
          "output_type": "stream",
          "name": "stdout",
          "text": [
            "['데이터', '분석', '전문가', '란', '데이터', '이해', '및', '처리', '기술', '대한', '지식', '바탕', '데이터', '분석', '기획', '데이터', '분석', '데이터', '시각', '업무', '수행', '통해', '프로세스', '혁신', '및', '마케팅', '전략', '결정', '등', '과학', '의사결정', '지원', '직무', '수행', '전문가', '말']\n"
          ]
        }
      ]
    },
    {
      "cell_type": "code",
      "source": [
        "from collections import Counter\n",
        "import pandas as pd\n",
        "import matplotlib.pyplot as plt\n",
        "from wordcloud import WordCloud\n",
        "import seaborn as sns\n",
        "plt.rcParams['font.family'] = 'NanumGothic'\n",
        "\n",
        "okt = Okt()\n",
        "tokens = okt.nouns(text)\n",
        "word_counts = Counter(tokens)\n",
        "words = list(word_counts.keys())\n",
        "counts = list(word_counts.values())\n",
        "\n",
        "dt = pd.DataFrame({\n",
        "    '단어': words,\n",
        "    '빈도수': counts\n",
        "})\n",
        "\n",
        "dt10 = dt.sort_values(by = '빈도수', ascending = False).head(10)\n",
        "\n",
        "plt.figure(figsize=(10, 6))\n",
        "sns.barplot(y='단어', x='빈도수', hue=\"단어\", data=dt10)\n",
        "plt.title('단어 빈도수 막대 그래프')\n",
        "plt.xticks(rotation=45)\n",
        "plt.show()"
      ],
      "metadata": {
        "colab": {
          "base_uri": "https://localhost:8080/",
          "height": 563
        },
        "id": "MO_pEwPngwWo",
        "outputId": "dcb67728-0b0b-4b00-e572-d08b28f006bd"
      },
      "execution_count": 26,
      "outputs": [
        {
          "output_type": "display_data",
          "data": {
            "text/plain": [
              "<Figure size 1000x600 with 1 Axes>"
            ],
            "image/png": "[encoded data removed]"
          },
          "metadata": {}
        }
      ]
    },
    {
      "cell_type": "markdown",
      "source": [
        "Q 텍스트를 받아 막대그래프 그리는 함수"
      ],
      "metadata": {
        "id": "wiAjJQRKzSBu"
      }
    },
    {
      "cell_type": "code",
      "source": [
        "text = answer_info['answer']\n",
        "text"
      ],
      "metadata": {
        "colab": {
          "base_uri": "https://localhost:8080/",
          "height": 35
        },
        "id": "YswoxkwWnWVZ",
        "outputId": "02f3fb85-d265-4e3a-ce2f-be89ebca04f2"
      },
      "execution_count": 15,
      "outputs": [
        {
          "output_type": "execute_result",
          "data": {
            "text/plain": [
              "\"김구(金九, 1876년 8월 29일 (1876년 음력 7월 11일) - 1949년 6월 26일)는 일제강점기 독립운동가이자 대한민국의 통일운동가, 정치인이다. 의열단체 한인애국단을 이끌었고 대한민국 임시 정부 주석을 역임하였으며 1962년 '건국훈장 대한민국장'이 추서되었다.\""
            ],
            "application/vnd.google.colaboratory.intrinsic+json": {
              "type": "string"
            }
          },
          "metadata": {},
          "execution_count": 15
        }
      ]
    },
    {
      "cell_type": "code",
      "source": [
        "text = get_wiki(\"데이터 분석이 뭐야\", accessKey)\n",
        "text"
      ],
      "metadata": {
        "id": "qR0yozMFnbnQ",
        "outputId": "0e07aba6-c7b5-4ead-e8e8-ac336ca6015d",
        "colab": {
          "base_uri": "https://localhost:8080/",
          "height": 35
        }
      },
      "execution_count": 16,
      "outputs": [
        {
          "output_type": "execute_result",
          "data": {
            "text/plain": [
              "'데이터 분석 전문가(ADP)란 데이터 이해 및 처리 기술에 대한 기본지식을 바탕으로 데이터 분석 기획, 데이터 분석, 데이터 시각화 업무를 수행하고, 이를 통해 프로세스 혁신 및 마케팅 전략 결정 등의 과학적 의사결정을 지원하는 직무를 수행하는 전문가를 말한다.'"
            ],
            "application/vnd.google.colaboratory.intrinsic+json": {
              "type": "string"
            }
          },
          "metadata": {},
          "execution_count": 16
        }
      ]
    },
    {
      "cell_type": "code",
      "source": [
        "from wordcloud import WordCloud\n",
        "from konlpy.tag import Okt\n",
        "import matplotlib.pyplot as plt\n",
        "\n",
        "#함수\n",
        "def wiki(text):\n",
        "  requestJson = {\n",
        "  \"argument\": {\n",
        "    \"question\": text,\n",
        "    \"type\": etype\n",
        "    }\n",
        "  }\n",
        "\n",
        "  http = urllib3.PoolManager()\n",
        "  response = http.request(\n",
        "      \"POST\",\n",
        "      openApiURL,\n",
        "      headers={\"Content-Type\": \"application/json; charset=UTF-8\",\"Authorization\": accessKey},\n",
        "      body=json.dumps(requestJson))\n",
        "  response_data = response.json()\n",
        "  answer_info = response_data['return_object']['WiKiInfo']['AnswerInfo'][0]\n",
        "  text = answer_info['answer'] #이게 위키를 접속해서 긁어오는 코딩인데, 위에선 이미 세션에 들어가 있기 때문에 이거 없이도 작동한거고,\n",
        "                               #함수에서 사용할 경우에는 다시 만들어줘야함.\n",
        "\n",
        "  okt = Okt()\n",
        "  tokens = okt.nouns(text)\n",
        "  word_counts = Counter(tokens)\n",
        "  words = list(word_counts.keys())\n",
        "  counts = list(word_counts.values())\n",
        "\n",
        "  dt = pd.DataFrame({\n",
        "      '단어': words,\n",
        "      '빈도수': counts\n",
        "  })\n",
        "  dt\n",
        "\n",
        "\n",
        "  dt10 = dt.sort_values(by = '빈도수', ascending = False).head(10)\n",
        "\n",
        "  plt.figure(figsize=(10, 6))\n",
        "  sns.barplot(y='단어', x='빈도수', hue=\"단어\", data=dt10)\n",
        "  plt.title('단어 빈도수 막대 그래프')\n",
        "  plt.xticks(rotation=45)\n",
        "  plt.show()\n",
        "  return answer_info['answer']"
      ],
      "metadata": {
        "id": "wKwMrYto8Jrq"
      },
      "execution_count": 31,
      "outputs": []
    },
    {
      "cell_type": "code",
      "source": [
        "wiki(\"데이터 분석이 뭐야\")"
      ],
      "metadata": {
        "colab": {
          "base_uri": "https://localhost:8080/",
          "height": 581
        },
        "id": "roM3F0bceM9A",
        "outputId": "f33c0b90-c1b5-47b7-fda1-6a6d40d95f55"
      },
      "execution_count": 32,
      "outputs": [
        {
          "output_type": "display_data",
          "data": {
            "text/plain": [
              "<Figure size 1000x600 with 1 Axes>"
            ],
            "image/png": "[encoded data removed]"
          },
          "metadata": {}
        },
        {
          "output_type": "execute_result",
          "data": {
            "text/plain": [
              "'데이터 분석 전문가(ADP)란 데이터 이해 및 처리 기술에 대한 기본지식을 바탕으로 데이터 분석 기획, 데이터 분석, 데이터 시각화 업무를 수행하고, 이를 통해 프로세스 혁신 및 마케팅 전략 결정 등의 과학적 의사결정을 지원하는 직무를 수행하는 전문가를 말한다.'"
            ],
            "application/vnd.google.colaboratory.intrinsic+json": {
              "type": "string"
            }
          },
          "metadata": {},
          "execution_count": 32
        }
      ]
    }
  ]
}