{
  "nbformat": 4,
  "nbformat_minor": 0,
  "metadata": {
    "colab": {
      "provenance": [],
      "include_colab_link": true
    },
    "kernelspec": {
      "name": "python3",
      "display_name": "Python 3"
    },
    "language_info": {
      "name": "python"
    }
  },
  "cells": [
    {
      "cell_type": "markdown",
      "metadata": {
        "id": "view-in-github",
        "colab_type": "text"
      },
      "source": [
        "<a href=\"https://colab.research.google.com/github/GoldKodo/Data/blob/main/12%EC%A3%BC%EC%B0%A8_%EC%9B%B9%ED%81%AC%EB%A1%A4%EB%A7%81(%EA%B8%B0%EC%B4%88).ipynb\" target=\"_parent\"><img src=\"https://colab.research.google.com/assets/colab-badge.svg\" alt=\"Open In Colab\"/></a>"
      ]
    },
    {
      "cell_type": "code",
      "execution_count": 4,
      "metadata": {
        "id": "YxjVqzYi9TSC",
        "colab": {
          "base_uri": "https://localhost:8080/"
        },
        "outputId": "3bc33a64-a301-4605-8f76-caac014f305e"
      },
      "outputs": [
        {
          "output_type": "execute_result",
          "data": {
            "text/plain": [
              "<!DOCTYPE html>\n",
              "\n",
              "<html>\n",
              "<head>\n",
              "<style>\n",
              "   .green{\n",
              "   color:#55ff55;\n",
              "   }\n",
              "   .red{\n",
              "   color:#ff5555;\n",
              "   }\n",
              "   .text{\n",
              "   width:50%;\n",
              "   }\n",
              "</style>\n",
              "<meta charset=\"utf-8\"/>\n",
              "<title>Hello</title>\n",
              "</head>\n",
              "<body>\n",
              "<div id=\"text\">\n",
              "<span class=\"red\"> \n",
              "동백꽃 필 무렵\n",
              "</span> \n",
              "<span class=\"green\"> \n",
              "쌉니다 천리마 마트\n",
              "</span> \n",
              "</div></body>\n",
              "</html>"
            ]
          },
          "metadata": {},
          "execution_count": 4
        }
      ],
      "source": [
        "from bs4 import BeautifulSoup    #모듈 이름 적기\n",
        "\n",
        "# HTML 파일 읽기\n",
        "with open('MyTest.html', 'r', encoding='utf-8') as file:\n",
        "    html_content = file.read()\n",
        "\n",
        "# BeautifulSoup 객체 생성\n",
        "soup = BeautifulSoup(html_content, 'html.parser')\n",
        "soup"
      ]
    },
    {
      "cell_type": "markdown",
      "source": [
        "# find_all 메서드를 사용하여 요소 찾기\n",
        "#1.클래스 이름으로 찾기"
      ],
      "metadata": {
        "id": "QCHZmpL1QCxl"
      }
    },
    {
      "cell_type": "code",
      "source": [
        "# 클래스 이름이 'red'인 모든 요소 찾기\n",
        "items = soup.find_all(class_='red')\n",
        "for item in items:\n",
        "    print(item.get_text(strip=True)) #strip : 빈칸 빼는거\n",
        "\n",
        "# 클래스 이름이 'green'인 모든 요소 찾기\n",
        "items = soup.find_all(class_='green')\n",
        "for item in items:\n",
        "    print(item.get_text(strip=True))\n"
      ],
      "metadata": {
        "id": "D7O1R-0sa2Vr",
        "colab": {
          "base_uri": "https://localhost:8080/"
        },
        "outputId": "52cca223-4dd5-473d-ce3f-f4153f7fe82c"
      },
      "execution_count": 6,
      "outputs": [
        {
          "output_type": "stream",
          "name": "stdout",
          "text": [
            "동백꽃 필 무렵\n",
            "쌉니다 천리마 마트\n"
          ]
        }
      ]
    },
    {
      "cell_type": "markdown",
      "source": [
        "# span 태그인 모든 요소 찾기"
      ],
      "metadata": {
        "id": "5TQCedpaQXZ9"
      }
    },
    {
      "cell_type": "code",
      "source": [
        "# span 태그인 모든 요소 찾기\n",
        "span_elements = soup.find_all('span')\n",
        "for element in span_elements:\n",
        "    print(element.get_text(strip=True))\n"
      ],
      "metadata": {
        "id": "Hd2JifdbQVMJ",
        "colab": {
          "base_uri": "https://localhost:8080/"
        },
        "outputId": "1a1c6b92-407f-43c3-c600-b062c6ef8cd1"
      },
      "execution_count": 7,
      "outputs": [
        {
          "output_type": "stream",
          "name": "stdout",
          "text": [
            "동백꽃 필 무렵\n",
            "쌉니다 천리마 마트\n"
          ]
        }
      ]
    },
    {
      "cell_type": "markdown",
      "source": [
        "# select 메서드를 사용하여 요소 찾기\n",
        "# 클래스 이름으로 찾기"
      ],
      "metadata": {
        "id": "LYxylKphQgAT"
      }
    },
    {
      "cell_type": "code",
      "source": [
        "# 클래스 이름이 'red'인 모든 요소 찾기\n",
        "items = soup.select('.red')\n",
        "for item in items:\n",
        "    print(item.get_text(strip=True))\n",
        "\n",
        "# 클래스 이름이 'green'인 모든 요소 찾기\n",
        "items = soup.select('.green')\n",
        "for item in items:\n",
        "    print(item.get_text(strip=True))\n"
      ],
      "metadata": {
        "colab": {
          "base_uri": "https://localhost:8080/"
        },
        "id": "dG4IK-bVQm7W",
        "outputId": "834d6f8d-7f75-4bd5-84bc-dcff4efaa889"
      },
      "execution_count": null,
      "outputs": [
        {
          "output_type": "stream",
          "name": "stdout",
          "text": [
            "동백꽃 필 무렵\n",
            "쌉니다 천리마 마트\n"
          ]
        }
      ]
    },
    {
      "cell_type": "markdown",
      "source": [
        "# span 태그인 모든 요소 찾기"
      ],
      "metadata": {
        "id": "M1G0k1HQQ6qT"
      }
    },
    {
      "cell_type": "code",
      "source": [
        "# span 태그인 모든 요소 찾기\n",
        "items = soup.select('span')\n",
        "for item in items:\n",
        "    print(item.get_text(strip=True))\n"
      ],
      "metadata": {
        "colab": {
          "base_uri": "https://localhost:8080/"
        },
        "id": "-bsjgaOKQx8l",
        "outputId": "b3a1632d-f31f-4a0a-b678-5b00b6f22916"
      },
      "execution_count": null,
      "outputs": [
        {
          "output_type": "stream",
          "name": "stdout",
          "text": [
            "동백꽃 필 무렵\n",
            "쌉니다 천리마 마트\n"
          ]
        }
      ]
    }
  ]
}